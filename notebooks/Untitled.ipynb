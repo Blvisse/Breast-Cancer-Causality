{
 "cells": [
  {
   "cell_type": "code",
   "execution_count": 10,
   "id": "8c77d45f",
   "metadata": {},
   "outputs": [
    {
     "name": "stdout",
     "output_type": "stream",
     "text": [
      "Requirement already satisfied: dowhy in c:\\users\\blais\\desktop\\10-academy\\week 7\\breast-cancer-causality\\venv\\lib\\site-packages (0.6)\n",
      "Requirement already satisfied: pydot>=1.4 in c:\\users\\blais\\desktop\\10-academy\\week 7\\breast-cancer-causality\\venv\\lib\\site-packages (from dowhy) (1.4.2)\n",
      "Requirement already satisfied: statsmodels in c:\\users\\blais\\desktop\\10-academy\\week 7\\breast-cancer-causality\\venv\\lib\\site-packages (from dowhy) (0.12.2)\n",
      "Requirement already satisfied: sympy>=1.4 in c:\\users\\blais\\desktop\\10-academy\\week 7\\breast-cancer-causality\\venv\\lib\\site-packages (from dowhy) (1.8)\n",
      "Requirement already satisfied: numpy>=1.15 in c:\\users\\blais\\desktop\\10-academy\\week 7\\breast-cancer-causality\\venv\\lib\\site-packages (from dowhy) (1.21.2)\n",
      "Requirement already satisfied: scikit-learn in c:\\users\\blais\\desktop\\10-academy\\week 7\\breast-cancer-causality\\venv\\lib\\site-packages (from dowhy) (0.24.2)\n",
      "Requirement already satisfied: scipy in c:\\users\\blais\\desktop\\10-academy\\week 7\\breast-cancer-causality\\venv\\lib\\site-packages (from dowhy) (1.7.1)\n",
      "Requirement already satisfied: networkx>=2.0 in c:\\users\\blais\\desktop\\10-academy\\week 7\\breast-cancer-causality\\venv\\lib\\site-packages (from dowhy) (2.6.2)\n",
      "Requirement already satisfied: pandas>=0.24 in c:\\users\\blais\\desktop\\10-academy\\week 7\\breast-cancer-causality\\venv\\lib\\site-packages (from dowhy) (1.3.2)\n",
      "Requirement already satisfied: pytz>=2017.3 in c:\\users\\blais\\desktop\\10-academy\\week 7\\breast-cancer-causality\\venv\\lib\\site-packages (from pandas>=0.24->dowhy) (2021.1)\n",
      "Requirement already satisfied: python-dateutil>=2.7.3 in c:\\users\\blais\\desktop\\10-academy\\week 7\\breast-cancer-causality\\venv\\lib\\site-packages (from pandas>=0.24->dowhy) (2.8.2)\n",
      "Requirement already satisfied: pyparsing>=2.1.4 in c:\\users\\blais\\desktop\\10-academy\\week 7\\breast-cancer-causality\\venv\\lib\\site-packages (from pydot>=1.4->dowhy) (2.4.7)\n",
      "Requirement already satisfied: six>=1.5 in c:\\users\\blais\\desktop\\10-academy\\week 7\\breast-cancer-causality\\venv\\lib\\site-packages (from python-dateutil>=2.7.3->pandas>=0.24->dowhy) (1.16.0)\n",
      "Requirement already satisfied: mpmath>=0.19 in c:\\users\\blais\\desktop\\10-academy\\week 7\\breast-cancer-causality\\venv\\lib\\site-packages (from sympy>=1.4->dowhy) (1.2.1)\n",
      "Requirement already satisfied: threadpoolctl>=2.0.0 in c:\\users\\blais\\desktop\\10-academy\\week 7\\breast-cancer-causality\\venv\\lib\\site-packages (from scikit-learn->dowhy) (2.2.0)\n",
      "Requirement already satisfied: joblib>=0.11 in c:\\users\\blais\\desktop\\10-academy\\week 7\\breast-cancer-causality\\venv\\lib\\site-packages (from scikit-learn->dowhy) (1.0.1)\n",
      "Requirement already satisfied: patsy>=0.5 in c:\\users\\blais\\desktop\\10-academy\\week 7\\breast-cancer-causality\\venv\\lib\\site-packages (from statsmodels->dowhy) (0.5.1)\n"
     ]
    }
   ],
   "source": [
    "!pip install dowhy"
   ]
  },
  {
   "cell_type": "code",
   "execution_count": 5,
   "id": "43248ab3",
   "metadata": {},
   "outputs": [
    {
     "ename": "ModuleNotFoundError",
     "evalue": "No module named 'dowhy'",
     "output_type": "error",
     "traceback": [
      "\u001b[1;31m---------------------------------------------------------------------------\u001b[0m",
      "\u001b[1;31mModuleNotFoundError\u001b[0m                       Traceback (most recent call last)",
      "\u001b[1;32m<ipython-input-5-caaf7dd83fee>\u001b[0m in \u001b[0;36m<module>\u001b[1;34m\u001b[0m\n\u001b[1;32m----> 1\u001b[1;33m \u001b[1;32mimport\u001b[0m \u001b[0mdowhy\u001b[0m\u001b[1;33m\u001b[0m\u001b[1;33m\u001b[0m\u001b[0m\n\u001b[0m\u001b[0;32m      2\u001b[0m \u001b[1;32mfrom\u001b[0m \u001b[0mdowhy\u001b[0m \u001b[1;32mimport\u001b[0m \u001b[0mCausalModel\u001b[0m\u001b[1;33m\u001b[0m\u001b[1;33m\u001b[0m\u001b[0m\n\u001b[0;32m      3\u001b[0m \u001b[1;32mimport\u001b[0m \u001b[0mpandas\u001b[0m \u001b[1;32mas\u001b[0m \u001b[0mpd\u001b[0m\u001b[1;33m\u001b[0m\u001b[1;33m\u001b[0m\u001b[0m\n\u001b[0;32m      4\u001b[0m \u001b[1;32mimport\u001b[0m \u001b[0mnumpy\u001b[0m \u001b[1;32mas\u001b[0m \u001b[0mnp\u001b[0m\u001b[1;33m\u001b[0m\u001b[1;33m\u001b[0m\u001b[0m\n",
      "\u001b[1;31mModuleNotFoundError\u001b[0m: No module named 'dowhy'"
     ]
    }
   ],
   "source": [
    "import dowhy\n",
    "from dowhy import CausalModel\n",
    "import pandas as pd\n",
    "import numpy as np"
   ]
  },
  {
   "cell_type": "code",
   "execution_count": null,
   "id": "57e4e9f2",
   "metadata": {},
   "outputs": [],
   "source": []
  }
 ],
 "metadata": {
  "kernelspec": {
   "display_name": "Python 3",
   "language": "python",
   "name": "python3"
  },
  "language_info": {
   "codemirror_mode": {
    "name": "ipython",
    "version": 3
   },
   "file_extension": ".py",
   "mimetype": "text/x-python",
   "name": "python",
   "nbconvert_exporter": "python",
   "pygments_lexer": "ipython3",
   "version": "3.7.10"
  }
 },
 "nbformat": 4,
 "nbformat_minor": 5
}
