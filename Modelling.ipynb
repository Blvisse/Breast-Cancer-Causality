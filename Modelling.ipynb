{
  "nbformat": 4,
  "nbformat_minor": 0,
  "metadata": {
    "colab": {
      "name": "Modelling.ipynb",
      "provenance": [],
      "authorship_tag": "ABX9TyNgryLOgxPFdoaUzLNCHEKZ",
      "include_colab_link": true
    },
    "kernelspec": {
      "name": "python3",
      "display_name": "Python 3"
    },
    "language_info": {
      "name": "python"
    }
  },
  "cells": [
    {
      "cell_type": "markdown",
      "metadata": {
        "id": "view-in-github",
        "colab_type": "text"
      },
      "source": [
        "<a href=\"https://colab.research.google.com/github/Blvisse/Breast-Cancer-Causality/blob/EDA/Modelling.ipynb\" target=\"_parent\"><img src=\"https://colab.research.google.com/assets/colab-badge.svg\" alt=\"Open In Colab\"/></a>"
      ]
    },
    {
      "cell_type": "code",
      "metadata": {
        "colab": {
          "base_uri": "https://localhost:8080/"
        },
        "id": "Ls7J04STh0X3",
        "outputId": "6445ddff-fe6b-4fa8-8c63-0a3ba4aac6db"
      },
      "source": [
        "!pip install dowhy"
      ],
      "execution_count": null,
      "outputs": [
        {
          "output_type": "stream",
          "text": [
            "Collecting dowhy\n",
            "  Downloading dowhy-0.6-py3-none-any.whl (123 kB)\n",
            "\u001b[?25l\r\u001b[K     |██▋                             | 10 kB 20.8 MB/s eta 0:00:01\r\u001b[K     |█████▎                          | 20 kB 26.6 MB/s eta 0:00:01\r\u001b[K     |████████                        | 30 kB 13.1 MB/s eta 0:00:01\r\u001b[K     |██████████▋                     | 40 kB 9.5 MB/s eta 0:00:01\r\u001b[K     |█████████████▏                  | 51 kB 5.2 MB/s eta 0:00:01\r\u001b[K     |███████████████▉                | 61 kB 5.2 MB/s eta 0:00:01\r\u001b[K     |██████████████████▌             | 71 kB 5.5 MB/s eta 0:00:01\r\u001b[K     |█████████████████████▏          | 81 kB 6.1 MB/s eta 0:00:01\r\u001b[K     |███████████████████████▉        | 92 kB 6.2 MB/s eta 0:00:01\r\u001b[K     |██████████████████████████▍     | 102 kB 4.7 MB/s eta 0:00:01\r\u001b[K     |█████████████████████████████   | 112 kB 4.7 MB/s eta 0:00:01\r\u001b[K     |███████████████████████████████▊| 122 kB 4.7 MB/s eta 0:00:01\r\u001b[K     |████████████████████████████████| 123 kB 4.7 MB/s \n",
            "\u001b[?25hRequirement already satisfied: statsmodels in /usr/local/lib/python3.7/dist-packages (from dowhy) (0.10.2)\n",
            "Requirement already satisfied: sympy>=1.4 in /usr/local/lib/python3.7/dist-packages (from dowhy) (1.7.1)\n",
            "Requirement already satisfied: scikit-learn in /usr/local/lib/python3.7/dist-packages (from dowhy) (0.22.2.post1)\n",
            "Collecting pydot>=1.4\n",
            "  Downloading pydot-1.4.2-py2.py3-none-any.whl (21 kB)\n",
            "Requirement already satisfied: pandas>=0.24 in /usr/local/lib/python3.7/dist-packages (from dowhy) (1.1.5)\n",
            "Requirement already satisfied: numpy>=1.15 in /usr/local/lib/python3.7/dist-packages (from dowhy) (1.19.5)\n",
            "Requirement already satisfied: scipy in /usr/local/lib/python3.7/dist-packages (from dowhy) (1.4.1)\n",
            "Requirement already satisfied: networkx>=2.0 in /usr/local/lib/python3.7/dist-packages (from dowhy) (2.6.2)\n",
            "Requirement already satisfied: python-dateutil>=2.7.3 in /usr/local/lib/python3.7/dist-packages (from pandas>=0.24->dowhy) (2.8.2)\n",
            "Requirement already satisfied: pytz>=2017.2 in /usr/local/lib/python3.7/dist-packages (from pandas>=0.24->dowhy) (2018.9)\n",
            "Requirement already satisfied: pyparsing>=2.1.4 in /usr/local/lib/python3.7/dist-packages (from pydot>=1.4->dowhy) (2.4.7)\n",
            "Requirement already satisfied: six>=1.5 in /usr/local/lib/python3.7/dist-packages (from python-dateutil>=2.7.3->pandas>=0.24->dowhy) (1.15.0)\n",
            "Requirement already satisfied: mpmath>=0.19 in /usr/local/lib/python3.7/dist-packages (from sympy>=1.4->dowhy) (1.2.1)\n",
            "Requirement already satisfied: joblib>=0.11 in /usr/local/lib/python3.7/dist-packages (from scikit-learn->dowhy) (1.0.1)\n",
            "Requirement already satisfied: patsy>=0.4.0 in /usr/local/lib/python3.7/dist-packages (from statsmodels->dowhy) (0.5.1)\n",
            "Installing collected packages: pydot, dowhy\n",
            "  Attempting uninstall: pydot\n",
            "    Found existing installation: pydot 1.3.0\n",
            "    Uninstalling pydot-1.3.0:\n",
            "      Successfully uninstalled pydot-1.3.0\n",
            "Successfully installed dowhy-0.6 pydot-1.4.2\n"
          ],
          "name": "stdout"
        }
      ]
    },
    {
      "cell_type": "code",
      "metadata": {
        "id": "5XNPbgoWh3pH"
      },
      "source": [
        "import dowhy\n",
        "import pandas as pd\n",
        "import numpy as np\n",
        "import seaborn as sns\n",
        "from dowhy import CausalModel\n",
        "\n",
        "\n",
        "data=pd.read_csv('/content/final_data.csv')\n"
      ],
      "execution_count": null,
      "outputs": []
    },
    {
      "cell_type": "code",
      "metadata": {
        "colab": {
          "base_uri": "https://localhost:8080/",
          "height": 459
        },
        "id": "69mwEGBfiB2T",
        "outputId": "f9a2e081-984e-4011-b6a8-efe791ee229e"
      },
      "source": [
        "data"
      ],
      "execution_count": null,
      "outputs": [
        {
          "output_type": "execute_result",
          "data": {
            "text/html": [
              "<div>\n",
              "<style scoped>\n",
              "    .dataframe tbody tr th:only-of-type {\n",
              "        vertical-align: middle;\n",
              "    }\n",
              "\n",
              "    .dataframe tbody tr th {\n",
              "        vertical-align: top;\n",
              "    }\n",
              "\n",
              "    .dataframe thead th {\n",
              "        text-align: right;\n",
              "    }\n",
              "</style>\n",
              "<table border=\"1\" class=\"dataframe\">\n",
              "  <thead>\n",
              "    <tr style=\"text-align: right;\">\n",
              "      <th></th>\n",
              "      <th>diagnosis</th>\n",
              "      <th>radius_mean</th>\n",
              "      <th>texture_mean</th>\n",
              "      <th>smoothness_mean</th>\n",
              "      <th>compactness_mean</th>\n",
              "      <th>concavity_mean</th>\n",
              "      <th>concave points_mean</th>\n",
              "      <th>symmetry_mean</th>\n",
              "      <th>fractal_dimension_mean</th>\n",
              "      <th>radius_se</th>\n",
              "      <th>texture_se</th>\n",
              "      <th>smoothness_se</th>\n",
              "      <th>compactness_se</th>\n",
              "      <th>concavity_se</th>\n",
              "      <th>concave points_se</th>\n",
              "      <th>symmetry_se</th>\n",
              "      <th>fractal_dimension_se</th>\n",
              "      <th>radius_worst</th>\n",
              "      <th>texture_worst</th>\n",
              "      <th>smoothness_worst</th>\n",
              "      <th>compactness_worst</th>\n",
              "      <th>concavity_worst</th>\n",
              "      <th>concave points_worst</th>\n",
              "      <th>symmetry_worst</th>\n",
              "      <th>fractal_dimension_worst</th>\n",
              "    </tr>\n",
              "  </thead>\n",
              "  <tbody>\n",
              "    <tr>\n",
              "      <th>0</th>\n",
              "      <td>0</td>\n",
              "      <td>20.57</td>\n",
              "      <td>17.77</td>\n",
              "      <td>0.08474</td>\n",
              "      <td>0.07864</td>\n",
              "      <td>0.08690</td>\n",
              "      <td>0.07017</td>\n",
              "      <td>0.1812</td>\n",
              "      <td>0.05667</td>\n",
              "      <td>0.5435</td>\n",
              "      <td>0.7339</td>\n",
              "      <td>0.005225</td>\n",
              "      <td>0.01308</td>\n",
              "      <td>0.01860</td>\n",
              "      <td>0.01340</td>\n",
              "      <td>0.01389</td>\n",
              "      <td>0.003532</td>\n",
              "      <td>24.99</td>\n",
              "      <td>23.41</td>\n",
              "      <td>0.1238</td>\n",
              "      <td>0.1866</td>\n",
              "      <td>0.2416</td>\n",
              "      <td>0.1860</td>\n",
              "      <td>0.2750</td>\n",
              "      <td>0.08902</td>\n",
              "    </tr>\n",
              "    <tr>\n",
              "      <th>1</th>\n",
              "      <td>0</td>\n",
              "      <td>19.69</td>\n",
              "      <td>21.25</td>\n",
              "      <td>0.10960</td>\n",
              "      <td>0.15990</td>\n",
              "      <td>0.19740</td>\n",
              "      <td>0.12790</td>\n",
              "      <td>0.2069</td>\n",
              "      <td>0.05999</td>\n",
              "      <td>0.7456</td>\n",
              "      <td>0.7869</td>\n",
              "      <td>0.006150</td>\n",
              "      <td>0.04006</td>\n",
              "      <td>0.03832</td>\n",
              "      <td>0.02058</td>\n",
              "      <td>0.02250</td>\n",
              "      <td>0.004571</td>\n",
              "      <td>23.57</td>\n",
              "      <td>25.53</td>\n",
              "      <td>0.1444</td>\n",
              "      <td>0.4245</td>\n",
              "      <td>0.4504</td>\n",
              "      <td>0.2430</td>\n",
              "      <td>0.3613</td>\n",
              "      <td>0.08758</td>\n",
              "    </tr>\n",
              "    <tr>\n",
              "      <th>2</th>\n",
              "      <td>0</td>\n",
              "      <td>20.29</td>\n",
              "      <td>14.34</td>\n",
              "      <td>0.10030</td>\n",
              "      <td>0.13280</td>\n",
              "      <td>0.19800</td>\n",
              "      <td>0.10430</td>\n",
              "      <td>0.1809</td>\n",
              "      <td>0.05883</td>\n",
              "      <td>0.7572</td>\n",
              "      <td>0.7813</td>\n",
              "      <td>0.011490</td>\n",
              "      <td>0.02461</td>\n",
              "      <td>0.05688</td>\n",
              "      <td>0.01885</td>\n",
              "      <td>0.01756</td>\n",
              "      <td>0.005115</td>\n",
              "      <td>22.54</td>\n",
              "      <td>16.67</td>\n",
              "      <td>0.1374</td>\n",
              "      <td>0.2050</td>\n",
              "      <td>0.4000</td>\n",
              "      <td>0.1625</td>\n",
              "      <td>0.2364</td>\n",
              "      <td>0.07678</td>\n",
              "    </tr>\n",
              "    <tr>\n",
              "      <th>3</th>\n",
              "      <td>0</td>\n",
              "      <td>12.45</td>\n",
              "      <td>15.70</td>\n",
              "      <td>0.12780</td>\n",
              "      <td>0.17000</td>\n",
              "      <td>0.15780</td>\n",
              "      <td>0.08089</td>\n",
              "      <td>0.2087</td>\n",
              "      <td>0.07613</td>\n",
              "      <td>0.3345</td>\n",
              "      <td>0.8902</td>\n",
              "      <td>0.007510</td>\n",
              "      <td>0.03345</td>\n",
              "      <td>0.03672</td>\n",
              "      <td>0.01137</td>\n",
              "      <td>0.02165</td>\n",
              "      <td>0.005082</td>\n",
              "      <td>15.47</td>\n",
              "      <td>23.75</td>\n",
              "      <td>0.1791</td>\n",
              "      <td>0.5249</td>\n",
              "      <td>0.5355</td>\n",
              "      <td>0.1741</td>\n",
              "      <td>0.3985</td>\n",
              "      <td>0.12440</td>\n",
              "    </tr>\n",
              "    <tr>\n",
              "      <th>4</th>\n",
              "      <td>0</td>\n",
              "      <td>18.25</td>\n",
              "      <td>19.98</td>\n",
              "      <td>0.09463</td>\n",
              "      <td>0.10900</td>\n",
              "      <td>0.11270</td>\n",
              "      <td>0.07400</td>\n",
              "      <td>0.1794</td>\n",
              "      <td>0.05742</td>\n",
              "      <td>0.4467</td>\n",
              "      <td>0.7732</td>\n",
              "      <td>0.004314</td>\n",
              "      <td>0.01382</td>\n",
              "      <td>0.02254</td>\n",
              "      <td>0.01039</td>\n",
              "      <td>0.01369</td>\n",
              "      <td>0.002179</td>\n",
              "      <td>22.88</td>\n",
              "      <td>27.66</td>\n",
              "      <td>0.1442</td>\n",
              "      <td>0.2576</td>\n",
              "      <td>0.3784</td>\n",
              "      <td>0.1932</td>\n",
              "      <td>0.3063</td>\n",
              "      <td>0.08368</td>\n",
              "    </tr>\n",
              "    <tr>\n",
              "      <th>...</th>\n",
              "      <td>...</td>\n",
              "      <td>...</td>\n",
              "      <td>...</td>\n",
              "      <td>...</td>\n",
              "      <td>...</td>\n",
              "      <td>...</td>\n",
              "      <td>...</td>\n",
              "      <td>...</td>\n",
              "      <td>...</td>\n",
              "      <td>...</td>\n",
              "      <td>...</td>\n",
              "      <td>...</td>\n",
              "      <td>...</td>\n",
              "      <td>...</td>\n",
              "      <td>...</td>\n",
              "      <td>...</td>\n",
              "      <td>...</td>\n",
              "      <td>...</td>\n",
              "      <td>...</td>\n",
              "      <td>...</td>\n",
              "      <td>...</td>\n",
              "      <td>...</td>\n",
              "      <td>...</td>\n",
              "      <td>...</td>\n",
              "      <td>...</td>\n",
              "    </tr>\n",
              "    <tr>\n",
              "      <th>490</th>\n",
              "      <td>1</td>\n",
              "      <td>14.05</td>\n",
              "      <td>27.15</td>\n",
              "      <td>0.09929</td>\n",
              "      <td>0.11260</td>\n",
              "      <td>0.04462</td>\n",
              "      <td>0.04304</td>\n",
              "      <td>0.1537</td>\n",
              "      <td>0.06171</td>\n",
              "      <td>0.3645</td>\n",
              "      <td>1.4920</td>\n",
              "      <td>0.007256</td>\n",
              "      <td>0.02678</td>\n",
              "      <td>0.02071</td>\n",
              "      <td>0.01626</td>\n",
              "      <td>0.02080</td>\n",
              "      <td>0.005304</td>\n",
              "      <td>15.30</td>\n",
              "      <td>33.17</td>\n",
              "      <td>0.1241</td>\n",
              "      <td>0.2264</td>\n",
              "      <td>0.1326</td>\n",
              "      <td>0.1048</td>\n",
              "      <td>0.2250</td>\n",
              "      <td>0.08321</td>\n",
              "    </tr>\n",
              "    <tr>\n",
              "      <th>491</th>\n",
              "      <td>0</td>\n",
              "      <td>20.92</td>\n",
              "      <td>25.09</td>\n",
              "      <td>0.10990</td>\n",
              "      <td>0.22360</td>\n",
              "      <td>0.31740</td>\n",
              "      <td>0.14740</td>\n",
              "      <td>0.2149</td>\n",
              "      <td>0.06879</td>\n",
              "      <td>0.9622</td>\n",
              "      <td>1.0260</td>\n",
              "      <td>0.006399</td>\n",
              "      <td>0.04310</td>\n",
              "      <td>0.07845</td>\n",
              "      <td>0.02624</td>\n",
              "      <td>0.02057</td>\n",
              "      <td>0.006213</td>\n",
              "      <td>24.29</td>\n",
              "      <td>29.41</td>\n",
              "      <td>0.1407</td>\n",
              "      <td>0.4186</td>\n",
              "      <td>0.6599</td>\n",
              "      <td>0.2542</td>\n",
              "      <td>0.2929</td>\n",
              "      <td>0.09873</td>\n",
              "    </tr>\n",
              "    <tr>\n",
              "      <th>492</th>\n",
              "      <td>0</td>\n",
              "      <td>21.56</td>\n",
              "      <td>22.39</td>\n",
              "      <td>0.11100</td>\n",
              "      <td>0.11590</td>\n",
              "      <td>0.24390</td>\n",
              "      <td>0.13890</td>\n",
              "      <td>0.1726</td>\n",
              "      <td>0.05623</td>\n",
              "      <td>1.1760</td>\n",
              "      <td>1.2560</td>\n",
              "      <td>0.010300</td>\n",
              "      <td>0.02891</td>\n",
              "      <td>0.05198</td>\n",
              "      <td>0.02454</td>\n",
              "      <td>0.01114</td>\n",
              "      <td>0.004239</td>\n",
              "      <td>25.45</td>\n",
              "      <td>26.40</td>\n",
              "      <td>0.1410</td>\n",
              "      <td>0.2113</td>\n",
              "      <td>0.4107</td>\n",
              "      <td>0.2216</td>\n",
              "      <td>0.2060</td>\n",
              "      <td>0.07115</td>\n",
              "    </tr>\n",
              "    <tr>\n",
              "      <th>493</th>\n",
              "      <td>0</td>\n",
              "      <td>20.13</td>\n",
              "      <td>28.25</td>\n",
              "      <td>0.09780</td>\n",
              "      <td>0.10340</td>\n",
              "      <td>0.14400</td>\n",
              "      <td>0.09791</td>\n",
              "      <td>0.1752</td>\n",
              "      <td>0.05533</td>\n",
              "      <td>0.7655</td>\n",
              "      <td>2.4630</td>\n",
              "      <td>0.005769</td>\n",
              "      <td>0.02423</td>\n",
              "      <td>0.03950</td>\n",
              "      <td>0.01678</td>\n",
              "      <td>0.01898</td>\n",
              "      <td>0.002498</td>\n",
              "      <td>23.69</td>\n",
              "      <td>38.25</td>\n",
              "      <td>0.1166</td>\n",
              "      <td>0.1922</td>\n",
              "      <td>0.3215</td>\n",
              "      <td>0.1628</td>\n",
              "      <td>0.2572</td>\n",
              "      <td>0.06637</td>\n",
              "    </tr>\n",
              "    <tr>\n",
              "      <th>494</th>\n",
              "      <td>0</td>\n",
              "      <td>16.60</td>\n",
              "      <td>28.08</td>\n",
              "      <td>0.08455</td>\n",
              "      <td>0.10230</td>\n",
              "      <td>0.09251</td>\n",
              "      <td>0.05302</td>\n",
              "      <td>0.1590</td>\n",
              "      <td>0.05648</td>\n",
              "      <td>0.4564</td>\n",
              "      <td>1.0750</td>\n",
              "      <td>0.005903</td>\n",
              "      <td>0.03731</td>\n",
              "      <td>0.04730</td>\n",
              "      <td>0.01557</td>\n",
              "      <td>0.01318</td>\n",
              "      <td>0.003892</td>\n",
              "      <td>18.98</td>\n",
              "      <td>34.12</td>\n",
              "      <td>0.1139</td>\n",
              "      <td>0.3094</td>\n",
              "      <td>0.3403</td>\n",
              "      <td>0.1418</td>\n",
              "      <td>0.2218</td>\n",
              "      <td>0.07820</td>\n",
              "    </tr>\n",
              "  </tbody>\n",
              "</table>\n",
              "<p>495 rows × 25 columns</p>\n",
              "</div>"
            ],
            "text/plain": [
              "     diagnosis  radius_mean  ...  symmetry_worst  fractal_dimension_worst\n",
              "0            0        20.57  ...          0.2750                  0.08902\n",
              "1            0        19.69  ...          0.3613                  0.08758\n",
              "2            0        20.29  ...          0.2364                  0.07678\n",
              "3            0        12.45  ...          0.3985                  0.12440\n",
              "4            0        18.25  ...          0.3063                  0.08368\n",
              "..         ...          ...  ...             ...                      ...\n",
              "490          1        14.05  ...          0.2250                  0.08321\n",
              "491          0        20.92  ...          0.2929                  0.09873\n",
              "492          0        21.56  ...          0.2060                  0.07115\n",
              "493          0        20.13  ...          0.2572                  0.06637\n",
              "494          0        16.60  ...          0.2218                  0.07820\n",
              "\n",
              "[495 rows x 25 columns]"
            ]
          },
          "metadata": {},
          "execution_count": 4
        }
      ]
    },
    {
      "cell_type": "code",
      "metadata": {
        "id": "lVlCve3LM1Pd"
      },
      "source": [
        ""
      ],
      "execution_count": null,
      "outputs": []
    },
    {
      "cell_type": "code",
      "metadata": {
        "id": "GStKsJUTM1Yh"
      },
      "source": [
        ""
      ],
      "execution_count": null,
      "outputs": []
    },
    {
      "cell_type": "code",
      "metadata": {
        "id": "kfIfjZd_M1gh"
      },
      "source": [
        ""
      ],
      "execution_count": null,
      "outputs": []
    },
    {
      "cell_type": "code",
      "metadata": {
        "id": "MZFSi8phM1ja"
      },
      "source": [
        ""
      ],
      "execution_count": null,
      "outputs": []
    },
    {
      "cell_type": "code",
      "metadata": {
        "id": "cFELwJRgM1mv"
      },
      "source": [
        ""
      ],
      "execution_count": null,
      "outputs": []
    },
    {
      "cell_type": "code",
      "metadata": {
        "id": "n1PrxqDRM1qR"
      },
      "source": [
        ""
      ],
      "execution_count": null,
      "outputs": []
    },
    {
      "cell_type": "code",
      "metadata": {
        "id": "-mbKVIKKM1tE"
      },
      "source": [
        ""
      ],
      "execution_count": null,
      "outputs": []
    },
    {
      "cell_type": "code",
      "metadata": {
        "id": "u717ET18M1wk"
      },
      "source": [
        ""
      ],
      "execution_count": null,
      "outputs": []
    },
    {
      "cell_type": "code",
      "metadata": {
        "id": "dZYHACU_M1z9"
      },
      "source": [
        ""
      ],
      "execution_count": null,
      "outputs": []
    },
    {
      "cell_type": "code",
      "metadata": {
        "id": "XkeaiRzkM12s"
      },
      "source": [
        ""
      ],
      "execution_count": null,
      "outputs": []
    },
    {
      "cell_type": "code",
      "metadata": {
        "id": "Hpqbhu0vM157"
      },
      "source": [
        ""
      ],
      "execution_count": null,
      "outputs": []
    },
    {
      "cell_type": "code",
      "metadata": {
        "colab": {
          "base_uri": "https://localhost:8080/",
          "height": 399
        },
        "id": "nkh7vlwMjowL",
        "outputId": "820fc1ee-a04e-40e1-f331-0d0163681567"
      },
      "source": [
        "sns.heatmap(data.corr())"
      ],
      "execution_count": null,
      "outputs": [
        {
          "output_type": "execute_result",
          "data": {
            "text/plain": [
              "<matplotlib.axes._subplots.AxesSubplot at 0x7fdb0ec5ed50>"
            ]
          },
          "metadata": {},
          "execution_count": 7
        },
        {
          "output_type": "display_data",
          "data": {
            "image/png": "[encoded data removed]",
            "text/plain": [
              "<Figure size 432x288 with 2 Axes>"
            ]
          },
          "metadata": {
            "needs_background": "light"
          }
        }
      ]
    },
    {
      "cell_type": "code",
      "metadata": {
        "colab": {
          "base_uri": "https://localhost:8080/",
          "height": 459
        },
        "id": "65qv6Y3evyKC",
        "outputId": "769f8d80-a96c-4a7e-cf7b-c90c190c0a76"
      },
      "source": [
        "data"
      ],
      "execution_count": null,
      "outputs": [
        {
          "output_type": "execute_result",
          "data": {
            "text/html": [
              "<div>\n",
              "<style scoped>\n",
              "    .dataframe tbody tr th:only-of-type {\n",
              "        vertical-align: middle;\n",
              "    }\n",
              "\n",
              "    .dataframe tbody tr th {\n",
              "        vertical-align: top;\n",
              "    }\n",
              "\n",
              "    .dataframe thead th {\n",
              "        text-align: right;\n",
              "    }\n",
              "</style>\n",
              "<table border=\"1\" class=\"dataframe\">\n",
              "  <thead>\n",
              "    <tr style=\"text-align: right;\">\n",
              "      <th></th>\n",
              "      <th>id</th>\n",
              "      <th>diagnosis</th>\n",
              "      <th>radius_mean</th>\n",
              "      <th>texture_mean</th>\n",
              "      <th>perimeter_mean</th>\n",
              "      <th>area_mean</th>\n",
              "      <th>smoothness_mean</th>\n",
              "      <th>compactness_mean</th>\n",
              "      <th>concavity_mean</th>\n",
              "      <th>concave points_mean</th>\n",
              "      <th>symmetry_mean</th>\n",
              "      <th>fractal_dimension_mean</th>\n",
              "      <th>radius_se</th>\n",
              "      <th>texture_se</th>\n",
              "      <th>perimeter_se</th>\n",
              "      <th>area_se</th>\n",
              "      <th>smoothness_se</th>\n",
              "      <th>compactness_se</th>\n",
              "      <th>concavity_se</th>\n",
              "      <th>concave points_se</th>\n",
              "      <th>symmetry_se</th>\n",
              "      <th>fractal_dimension_se</th>\n",
              "      <th>radius_worst</th>\n",
              "      <th>texture_worst</th>\n",
              "      <th>perimeter_worst</th>\n",
              "      <th>area_worst</th>\n",
              "      <th>smoothness_worst</th>\n",
              "      <th>compactness_worst</th>\n",
              "      <th>concavity_worst</th>\n",
              "      <th>concave points_worst</th>\n",
              "      <th>symmetry_worst</th>\n",
              "      <th>fractal_dimension_worst</th>\n",
              "    </tr>\n",
              "  </thead>\n",
              "  <tbody>\n",
              "    <tr>\n",
              "      <th>0</th>\n",
              "      <td>8510426</td>\n",
              "      <td>B</td>\n",
              "      <td>13.540</td>\n",
              "      <td>14.36</td>\n",
              "      <td>87.46</td>\n",
              "      <td>566.3</td>\n",
              "      <td>0.09779</td>\n",
              "      <td>0.08129</td>\n",
              "      <td>0.06664</td>\n",
              "      <td>0.04781</td>\n",
              "      <td>0.1885</td>\n",
              "      <td>0.05766</td>\n",
              "      <td>0.2699</td>\n",
              "      <td>0.7886</td>\n",
              "      <td>2.058</td>\n",
              "      <td>23.56</td>\n",
              "      <td>0.008462</td>\n",
              "      <td>0.014600</td>\n",
              "      <td>0.02387</td>\n",
              "      <td>0.013150</td>\n",
              "      <td>0.01980</td>\n",
              "      <td>0.002300</td>\n",
              "      <td>15.110</td>\n",
              "      <td>19.26</td>\n",
              "      <td>99.70</td>\n",
              "      <td>711.2</td>\n",
              "      <td>0.14400</td>\n",
              "      <td>0.17730</td>\n",
              "      <td>0.23900</td>\n",
              "      <td>0.12880</td>\n",
              "      <td>0.2977</td>\n",
              "      <td>0.07259</td>\n",
              "    </tr>\n",
              "    <tr>\n",
              "      <th>1</th>\n",
              "      <td>8510653</td>\n",
              "      <td>B</td>\n",
              "      <td>13.080</td>\n",
              "      <td>15.71</td>\n",
              "      <td>85.63</td>\n",
              "      <td>520.0</td>\n",
              "      <td>0.10750</td>\n",
              "      <td>0.12700</td>\n",
              "      <td>0.04568</td>\n",
              "      <td>0.03110</td>\n",
              "      <td>0.1967</td>\n",
              "      <td>0.06811</td>\n",
              "      <td>0.1852</td>\n",
              "      <td>0.7477</td>\n",
              "      <td>1.383</td>\n",
              "      <td>14.67</td>\n",
              "      <td>0.004097</td>\n",
              "      <td>0.018980</td>\n",
              "      <td>0.01698</td>\n",
              "      <td>0.006490</td>\n",
              "      <td>0.01678</td>\n",
              "      <td>0.002425</td>\n",
              "      <td>14.500</td>\n",
              "      <td>20.49</td>\n",
              "      <td>96.09</td>\n",
              "      <td>630.5</td>\n",
              "      <td>0.13120</td>\n",
              "      <td>0.27760</td>\n",
              "      <td>0.18900</td>\n",
              "      <td>0.07283</td>\n",
              "      <td>0.3184</td>\n",
              "      <td>0.08183</td>\n",
              "    </tr>\n",
              "    <tr>\n",
              "      <th>2</th>\n",
              "      <td>8510824</td>\n",
              "      <td>B</td>\n",
              "      <td>9.504</td>\n",
              "      <td>12.44</td>\n",
              "      <td>60.34</td>\n",
              "      <td>273.9</td>\n",
              "      <td>0.10240</td>\n",
              "      <td>0.06492</td>\n",
              "      <td>0.02956</td>\n",
              "      <td>0.02076</td>\n",
              "      <td>0.1815</td>\n",
              "      <td>0.06905</td>\n",
              "      <td>0.2773</td>\n",
              "      <td>0.9768</td>\n",
              "      <td>1.909</td>\n",
              "      <td>15.70</td>\n",
              "      <td>0.009606</td>\n",
              "      <td>0.014320</td>\n",
              "      <td>0.01985</td>\n",
              "      <td>0.014210</td>\n",
              "      <td>0.02027</td>\n",
              "      <td>0.002968</td>\n",
              "      <td>10.230</td>\n",
              "      <td>15.66</td>\n",
              "      <td>65.13</td>\n",
              "      <td>314.9</td>\n",
              "      <td>0.13240</td>\n",
              "      <td>0.11480</td>\n",
              "      <td>0.08867</td>\n",
              "      <td>0.06227</td>\n",
              "      <td>0.2450</td>\n",
              "      <td>0.07773</td>\n",
              "    </tr>\n",
              "    <tr>\n",
              "      <th>3</th>\n",
              "      <td>854941</td>\n",
              "      <td>B</td>\n",
              "      <td>13.030</td>\n",
              "      <td>18.42</td>\n",
              "      <td>82.61</td>\n",
              "      <td>523.8</td>\n",
              "      <td>0.08983</td>\n",
              "      <td>0.03766</td>\n",
              "      <td>0.02562</td>\n",
              "      <td>0.02923</td>\n",
              "      <td>0.1467</td>\n",
              "      <td>0.05863</td>\n",
              "      <td>0.1839</td>\n",
              "      <td>2.3420</td>\n",
              "      <td>1.170</td>\n",
              "      <td>14.16</td>\n",
              "      <td>0.004352</td>\n",
              "      <td>0.004899</td>\n",
              "      <td>0.01343</td>\n",
              "      <td>0.011640</td>\n",
              "      <td>0.02671</td>\n",
              "      <td>0.001777</td>\n",
              "      <td>13.300</td>\n",
              "      <td>22.81</td>\n",
              "      <td>84.46</td>\n",
              "      <td>545.9</td>\n",
              "      <td>0.09701</td>\n",
              "      <td>0.04619</td>\n",
              "      <td>0.04833</td>\n",
              "      <td>0.05013</td>\n",
              "      <td>0.1987</td>\n",
              "      <td>0.06169</td>\n",
              "    </tr>\n",
              "    <tr>\n",
              "      <th>4</th>\n",
              "      <td>855167</td>\n",
              "      <td>M</td>\n",
              "      <td>13.440</td>\n",
              "      <td>21.58</td>\n",
              "      <td>86.18</td>\n",
              "      <td>563.0</td>\n",
              "      <td>0.08162</td>\n",
              "      <td>0.06031</td>\n",
              "      <td>0.03110</td>\n",
              "      <td>0.02031</td>\n",
              "      <td>0.1784</td>\n",
              "      <td>0.05587</td>\n",
              "      <td>0.2385</td>\n",
              "      <td>0.8265</td>\n",
              "      <td>1.572</td>\n",
              "      <td>20.53</td>\n",
              "      <td>0.003280</td>\n",
              "      <td>0.011020</td>\n",
              "      <td>0.01390</td>\n",
              "      <td>0.006881</td>\n",
              "      <td>0.01380</td>\n",
              "      <td>0.001286</td>\n",
              "      <td>15.930</td>\n",
              "      <td>30.25</td>\n",
              "      <td>102.50</td>\n",
              "      <td>787.9</td>\n",
              "      <td>0.10940</td>\n",
              "      <td>0.20430</td>\n",
              "      <td>0.20850</td>\n",
              "      <td>0.11120</td>\n",
              "      <td>0.2994</td>\n",
              "      <td>0.07146</td>\n",
              "    </tr>\n",
              "    <tr>\n",
              "      <th>...</th>\n",
              "      <td>...</td>\n",
              "      <td>...</td>\n",
              "      <td>...</td>\n",
              "      <td>...</td>\n",
              "      <td>...</td>\n",
              "      <td>...</td>\n",
              "      <td>...</td>\n",
              "      <td>...</td>\n",
              "      <td>...</td>\n",
              "      <td>...</td>\n",
              "      <td>...</td>\n",
              "      <td>...</td>\n",
              "      <td>...</td>\n",
              "      <td>...</td>\n",
              "      <td>...</td>\n",
              "      <td>...</td>\n",
              "      <td>...</td>\n",
              "      <td>...</td>\n",
              "      <td>...</td>\n",
              "      <td>...</td>\n",
              "      <td>...</td>\n",
              "      <td>...</td>\n",
              "      <td>...</td>\n",
              "      <td>...</td>\n",
              "      <td>...</td>\n",
              "      <td>...</td>\n",
              "      <td>...</td>\n",
              "      <td>...</td>\n",
              "      <td>...</td>\n",
              "      <td>...</td>\n",
              "      <td>...</td>\n",
              "      <td>...</td>\n",
              "    </tr>\n",
              "    <tr>\n",
              "      <th>242</th>\n",
              "      <td>923748</td>\n",
              "      <td>B</td>\n",
              "      <td>10.860</td>\n",
              "      <td>21.48</td>\n",
              "      <td>68.51</td>\n",
              "      <td>360.5</td>\n",
              "      <td>0.07431</td>\n",
              "      <td>0.04227</td>\n",
              "      <td>0.00000</td>\n",
              "      <td>0.00000</td>\n",
              "      <td>0.1661</td>\n",
              "      <td>0.05948</td>\n",
              "      <td>0.3163</td>\n",
              "      <td>1.3040</td>\n",
              "      <td>2.115</td>\n",
              "      <td>20.67</td>\n",
              "      <td>0.009579</td>\n",
              "      <td>0.011040</td>\n",
              "      <td>0.00000</td>\n",
              "      <td>0.000000</td>\n",
              "      <td>0.03004</td>\n",
              "      <td>0.002228</td>\n",
              "      <td>11.660</td>\n",
              "      <td>24.77</td>\n",
              "      <td>74.08</td>\n",
              "      <td>412.3</td>\n",
              "      <td>0.10010</td>\n",
              "      <td>0.07348</td>\n",
              "      <td>0.00000</td>\n",
              "      <td>0.00000</td>\n",
              "      <td>0.2458</td>\n",
              "      <td>0.06592</td>\n",
              "    </tr>\n",
              "    <tr>\n",
              "      <th>243</th>\n",
              "      <td>923780</td>\n",
              "      <td>B</td>\n",
              "      <td>11.130</td>\n",
              "      <td>22.44</td>\n",
              "      <td>71.49</td>\n",
              "      <td>378.4</td>\n",
              "      <td>0.09566</td>\n",
              "      <td>0.08194</td>\n",
              "      <td>0.04824</td>\n",
              "      <td>0.02257</td>\n",
              "      <td>0.2030</td>\n",
              "      <td>0.06552</td>\n",
              "      <td>0.2800</td>\n",
              "      <td>1.4670</td>\n",
              "      <td>1.994</td>\n",
              "      <td>17.85</td>\n",
              "      <td>0.003495</td>\n",
              "      <td>0.030510</td>\n",
              "      <td>0.03445</td>\n",
              "      <td>0.010240</td>\n",
              "      <td>0.02912</td>\n",
              "      <td>0.004723</td>\n",
              "      <td>12.020</td>\n",
              "      <td>28.26</td>\n",
              "      <td>77.80</td>\n",
              "      <td>436.6</td>\n",
              "      <td>0.10870</td>\n",
              "      <td>0.17820</td>\n",
              "      <td>0.15640</td>\n",
              "      <td>0.06413</td>\n",
              "      <td>0.3169</td>\n",
              "      <td>0.08032</td>\n",
              "    </tr>\n",
              "    <tr>\n",
              "      <th>244</th>\n",
              "      <td>924632</td>\n",
              "      <td>B</td>\n",
              "      <td>12.880</td>\n",
              "      <td>28.92</td>\n",
              "      <td>82.50</td>\n",
              "      <td>514.3</td>\n",
              "      <td>0.08123</td>\n",
              "      <td>0.05824</td>\n",
              "      <td>0.06195</td>\n",
              "      <td>0.02343</td>\n",
              "      <td>0.1566</td>\n",
              "      <td>0.05708</td>\n",
              "      <td>0.2116</td>\n",
              "      <td>1.3600</td>\n",
              "      <td>1.502</td>\n",
              "      <td>16.83</td>\n",
              "      <td>0.008412</td>\n",
              "      <td>0.021530</td>\n",
              "      <td>0.03898</td>\n",
              "      <td>0.007620</td>\n",
              "      <td>0.01695</td>\n",
              "      <td>0.002801</td>\n",
              "      <td>13.890</td>\n",
              "      <td>35.74</td>\n",
              "      <td>88.84</td>\n",
              "      <td>595.7</td>\n",
              "      <td>0.12270</td>\n",
              "      <td>0.16200</td>\n",
              "      <td>0.24390</td>\n",
              "      <td>0.06493</td>\n",
              "      <td>0.2372</td>\n",
              "      <td>0.07242</td>\n",
              "    </tr>\n",
              "    <tr>\n",
              "      <th>245</th>\n",
              "      <td>925292</td>\n",
              "      <td>B</td>\n",
              "      <td>14.050</td>\n",
              "      <td>27.15</td>\n",
              "      <td>91.38</td>\n",
              "      <td>600.4</td>\n",
              "      <td>0.09929</td>\n",
              "      <td>0.11260</td>\n",
              "      <td>0.04462</td>\n",
              "      <td>0.04304</td>\n",
              "      <td>0.1537</td>\n",
              "      <td>0.06171</td>\n",
              "      <td>0.3645</td>\n",
              "      <td>1.4920</td>\n",
              "      <td>2.888</td>\n",
              "      <td>29.84</td>\n",
              "      <td>0.007256</td>\n",
              "      <td>0.026780</td>\n",
              "      <td>0.02071</td>\n",
              "      <td>0.016260</td>\n",
              "      <td>0.02080</td>\n",
              "      <td>0.005304</td>\n",
              "      <td>15.300</td>\n",
              "      <td>33.17</td>\n",
              "      <td>100.20</td>\n",
              "      <td>706.7</td>\n",
              "      <td>0.12410</td>\n",
              "      <td>0.22640</td>\n",
              "      <td>0.13260</td>\n",
              "      <td>0.10480</td>\n",
              "      <td>0.2250</td>\n",
              "      <td>0.08321</td>\n",
              "    </tr>\n",
              "    <tr>\n",
              "      <th>246</th>\n",
              "      <td>92751</td>\n",
              "      <td>B</td>\n",
              "      <td>7.760</td>\n",
              "      <td>24.54</td>\n",
              "      <td>47.92</td>\n",
              "      <td>181.0</td>\n",
              "      <td>0.05263</td>\n",
              "      <td>0.04362</td>\n",
              "      <td>0.00000</td>\n",
              "      <td>0.00000</td>\n",
              "      <td>0.1587</td>\n",
              "      <td>0.05884</td>\n",
              "      <td>0.3857</td>\n",
              "      <td>1.4280</td>\n",
              "      <td>2.548</td>\n",
              "      <td>19.15</td>\n",
              "      <td>0.007189</td>\n",
              "      <td>0.004660</td>\n",
              "      <td>0.00000</td>\n",
              "      <td>0.000000</td>\n",
              "      <td>0.02676</td>\n",
              "      <td>0.002783</td>\n",
              "      <td>9.456</td>\n",
              "      <td>30.37</td>\n",
              "      <td>59.16</td>\n",
              "      <td>268.6</td>\n",
              "      <td>0.08996</td>\n",
              "      <td>0.06444</td>\n",
              "      <td>0.00000</td>\n",
              "      <td>0.00000</td>\n",
              "      <td>0.2871</td>\n",
              "      <td>0.07039</td>\n",
              "    </tr>\n",
              "  </tbody>\n",
              "</table>\n",
              "<p>247 rows × 32 columns</p>\n",
              "</div>"
            ],
            "text/plain": [
              "          id diagnosis  ...  symmetry_worst  fractal_dimension_worst\n",
              "0    8510426         B  ...          0.2977                  0.07259\n",
              "1    8510653         B  ...          0.3184                  0.08183\n",
              "2    8510824         B  ...          0.2450                  0.07773\n",
              "3     854941         B  ...          0.1987                  0.06169\n",
              "4     855167         M  ...          0.2994                  0.07146\n",
              "..       ...       ...  ...             ...                      ...\n",
              "242   923748         B  ...          0.2458                  0.06592\n",
              "243   923780         B  ...          0.3169                  0.08032\n",
              "244   924632         B  ...          0.2372                  0.07242\n",
              "245   925292         B  ...          0.2250                  0.08321\n",
              "246    92751         B  ...          0.2871                  0.07039\n",
              "\n",
              "[247 rows x 32 columns]"
            ]
          },
          "metadata": {},
          "execution_count": 8
        }
      ]
    },
    {
      "cell_type": "code",
      "metadata": {
        "colab": {
          "base_uri": "https://localhost:8080/"
        },
        "id": "FfqbgmMl7UsJ",
        "outputId": "34259b60-906c-41b9-e65d-c0e29824684e"
      },
      "source": [
        "model=CausalModel(\n",
        "        data = data,\n",
        "        treatment='radius_mean',\n",
        "        outcome='diagnosis',\n",
        "        \n",
        "        )"
      ],
      "execution_count": null,
      "outputs": [
        {
          "output_type": "stream",
          "text": [
            "WARN: Are you sure that there are no common causes of treatment and outcome? [y/n] y\n"
          ],
          "name": "stdout"
        }
      ]
    },
    {
      "cell_type": "code",
      "metadata": {
        "colab": {
          "base_uri": "https://localhost:8080/",
          "height": 308
        },
        "id": "YmIPhMjU7qDD",
        "outputId": "6a4cfb13-822c-42bc-efca-f44a5fa610c4"
      },
      "source": [
        "identified_estimand=model.identify_effect()"
      ],
      "execution_count": null,
      "outputs": [
        {
          "output_type": "error",
          "ename": "AttributeError",
          "evalue": "ignored",
          "traceback": [
            "\u001b[0;31m---------------------------------------------------------------------------\u001b[0m",
            "\u001b[0;31mAttributeError\u001b[0m                            Traceback (most recent call last)",
            "\u001b[0;32m<ipython-input-12-2b67981862d3>\u001b[0m in \u001b[0;36m<module>\u001b[0;34m()\u001b[0m\n\u001b[0;32m----> 1\u001b[0;31m \u001b[0midentified_estimand\u001b[0m\u001b[0;34m=\u001b[0m\u001b[0mmodel\u001b[0m\u001b[0;34m.\u001b[0m\u001b[0midentify_effect\u001b[0m\u001b[0;34m(\u001b[0m\u001b[0;34m)\u001b[0m\u001b[0;34m\u001b[0m\u001b[0;34m\u001b[0m\u001b[0m\n\u001b[0m",
            "\u001b[0;32m/usr/local/lib/python3.7/dist-packages/dowhy/causal_model.py\u001b[0m in \u001b[0;36midentify_effect\u001b[0;34m(self, estimand_type, method_name, proceed_when_unidentifiable)\u001b[0m\n\u001b[1;32m    133\u001b[0m             \u001b[0mestimand_type\u001b[0m \u001b[0;34m=\u001b[0m \u001b[0mself\u001b[0m\u001b[0;34m.\u001b[0m\u001b[0m_estimand_type\u001b[0m\u001b[0;34m\u001b[0m\u001b[0;34m\u001b[0m\u001b[0m\n\u001b[1;32m    134\u001b[0m \u001b[0;34m\u001b[0m\u001b[0m\n\u001b[0;32m--> 135\u001b[0;31m         self.identifier = CausalIdentifier(self._graph,\n\u001b[0m\u001b[1;32m    136\u001b[0m                                            \u001b[0mestimand_type\u001b[0m\u001b[0;34m,\u001b[0m\u001b[0;34m\u001b[0m\u001b[0;34m\u001b[0m\u001b[0m\n\u001b[1;32m    137\u001b[0m                                            \u001b[0mmethod_name\u001b[0m\u001b[0;34m,\u001b[0m\u001b[0;34m\u001b[0m\u001b[0;34m\u001b[0m\u001b[0m\n",
            "\u001b[0;31mAttributeError\u001b[0m: 'CausalModel' object has no attribute '_graph'"
          ]
        }
      ]
    },
    {
      "cell_type": "code",
      "metadata": {
        "colab": {
          "base_uri": "https://localhost:8080/"
        },
        "id": "wMcYKuvy9Lyh",
        "outputId": "2246847f-2562-496c-e412-115c095f896e"
      },
      "source": [
        "!pip install causalgraphicalmodels"
      ],
      "execution_count": null,
      "outputs": [
        {
          "output_type": "stream",
          "text": [
            "Collecting causalgraphicalmodels\n",
            "  Downloading causalgraphicalmodels-0.0.4-py3-none-any.whl (11 kB)\n",
            "Requirement already satisfied: pandas in /usr/local/lib/python3.7/dist-packages (from causalgraphicalmodels) (1.1.5)\n",
            "Requirement already satisfied: graphviz in /usr/local/lib/python3.7/dist-packages (from causalgraphicalmodels) (0.10.1)\n",
            "Requirement already satisfied: networkx in /usr/local/lib/python3.7/dist-packages (from causalgraphicalmodels) (2.6.2)\n",
            "Requirement already satisfied: numpy in /usr/local/lib/python3.7/dist-packages (from causalgraphicalmodels) (1.19.5)\n",
            "Requirement already satisfied: pytz>=2017.2 in /usr/local/lib/python3.7/dist-packages (from pandas->causalgraphicalmodels) (2018.9)\n",
            "Requirement already satisfied: python-dateutil>=2.7.3 in /usr/local/lib/python3.7/dist-packages (from pandas->causalgraphicalmodels) (2.8.2)\n",
            "Requirement already satisfied: six>=1.5 in /usr/local/lib/python3.7/dist-packages (from python-dateutil>=2.7.3->pandas->causalgraphicalmodels) (1.15.0)\n",
            "Installing collected packages: causalgraphicalmodels\n",
            "Successfully installed causalgraphicalmodels-0.0.4\n"
          ],
          "name": "stdout"
        }
      ]
    },
    {
      "cell_type": "code",
      "metadata": {
        "id": "RJ_tf95276Nq"
      },
      "source": [
        "from causalgraphicalmodels import CausalGraphicalModel"
      ],
      "execution_count": null,
      "outputs": []
    },
    {
      "cell_type": "code",
      "metadata": {
        "id": "tsDdzWNO9Jik"
      },
      "source": [
        "effect=CausalGraphicalModel(nodes=data.columns,edges=[\n",
        "          (\"radius_mean\",\"diagnosis\"),\n",
        "          (\"texture_mean\",\"diagnosis\"),\n",
        "          (\"smoothness_mean\",\"diagnosis\"),\n",
        "          (\"smoothness_mean\",\"radius_mean\"),\n",
        "          (\"compactness_mean\",\"diagnosis\"),\n",
        "          (\"concavity_mean\",\"diagnosis\"),\n",
        "          (\"concave points_mean\",\"diagnosis\"),\n",
        "          (\"symmetry_mean\",\"diagnosis\"),\n",
        "          (\"fractal_dimesnion_mean\",\"diagnosis\"),\n",
        "          (\"radius_worst\",\"diagnosis\"),\n",
        "          (\"texture_worst\",\"diagnosis\"),\n",
        "          (\"smoothness_worst\",\"diagnosis\"),\n",
        "          (\"smoothness_worst\",\"radius_worst\"),\n",
        "          (\"compactness_worst\",\"diagnosis\"),\n",
        "          (\"concavity_worst\",\"diagnosis\"),\n",
        "          (\"concave points_worst\",\"diagnosis\"),\n",
        "          (\"symmetry_worst\",\"diagnosis\"),\n",
        "          (\"fractal_dimesnion_worst\",\"diagnosis\"),\n",
        "          (\"radius_se\",\"diagnosis\"),\n",
        "          (\"texture_se\",\"diagnosis\"),\n",
        "          (\"smoothness_se\",\"diagnosis\"),\n",
        "          (\"smoothness_se\",\"radius_se\"),\n",
        "          (\"compactness_se\",\"diagnosis\"),\n",
        "          (\"concavity_se\",\"diagnosis\"),\n",
        "          (\"concave points_se\",\"diagnosis\"),\n",
        "          (\"symmetry_se\",\"diagnosis\"),\n",
        "          (\"fractal_dimesnion_se\",\"diagnosis\"),\n",
        "          (\"compactness_se\",\"diagnosis\"),\n",
        "          (\"fractal_dimesnion_se\",\"diagnosis\"),\n",
        "          (\"perimeter_se\",\"diagnosis\")\n",
        "                                            \n",
        "        ])"
      ],
      "execution_count": null,
      "outputs": []
    },
    {
      "cell_type": "code",
      "metadata": {
        "colab": {
          "base_uri": "https://localhost:8080/",
          "height": 291
        },
        "id": "GEz7ZiXF9bQY",
        "outputId": "30aaa077-0d2d-47e2-be7f-467711f9f768"
      },
      "source": [
        "effect.draw()"
      ],
      "execution_count": null,
      "outputs": [
        {
          "output_type": "execute_result",
          "data": {
            "text/plain": [
              "<graphviz.dot.Digraph at 0x7fd3558a6c10>"
            ],
            "image/svg+xml": "<?xml version=\"1.0\" encoding=\"UTF-8\" standalone=\"no\"?>\n<!DOCTYPE svg PUBLIC \"-//W3C//DTD SVG 1.1//EN\"\n \"http://www.w3.org/Graphics/SVG/1.1/DTD/svg11.dtd\">\n<!-- Generated by graphviz version 2.40.1 (20161225.0304)\n -->\n<!-- Title: %3 Pages: 1 -->\n<svg width=\"2904pt\" height=\"188pt\"\n viewBox=\"0.00 0.00 2904.29 188.00\" xmlns=\"http://www.w3.org/2000/svg\" xmlns:xlink=\"http://www.w3.org/1999/xlink\">\n<g id=\"graph0\" class=\"graph\" transform=\"scale(1 1) rotate(0) translate(4 184)\">\n<title>%3</title>\n<polygon fill=\"#ffffff\" stroke=\"transparent\" points=\"-4,4 -4,-184 2900.2872,-184 2900.2872,4 -4,4\"/>\n<!-- texture_worst -->\n<g id=\"node1\" class=\"node\">\n<title>texture_worst</title>\n<ellipse fill=\"none\" stroke=\"#000000\" cx=\"61.7445\" cy=\"-90\" rx=\"61.99\" ry=\"18\"/>\n<text text-anchor=\"middle\" x=\"61.7445\" y=\"-86.3\" font-family=\"Times,serif\" font-size=\"14.00\" fill=\"#000000\">texture_worst</text>\n</g>\n<!-- diagnosis -->\n<g id=\"node15\" class=\"node\">\n<title>diagnosis</title>\n<ellipse fill=\"none\" stroke=\"#000000\" cx=\"1397.7445\" cy=\"-18\" rx=\"46.2923\" ry=\"18\"/>\n<text text-anchor=\"middle\" x=\"1397.7445\" y=\"-14.3\" font-family=\"Times,serif\" font-size=\"14.00\" fill=\"#000000\">diagnosis</text>\n</g>\n<!-- texture_worst&#45;&gt;diagnosis -->\n<g id=\"edge18\" class=\"edge\">\n<title>texture_worst&#45;&gt;diagnosis</title>\n<path fill=\"none\" stroke=\"#000000\" d=\"M105.7739,-77.345C114.6377,-75.2209 123.9371,-73.2904 132.7445,-72 371.0776,-37.0816 1128.4589,-22.3736 1341.5027,-18.8636\"/>\n<polygon fill=\"#000000\" stroke=\"#000000\" points=\"1341.5857,-22.3628 1351.5272,-18.7001 1341.4715,-15.3637 1341.5857,-22.3628\"/>\n</g>\n<!-- radius_worst -->\n<g id=\"node2\" class=\"node\">\n<title>radius_worst</title>\n<ellipse fill=\"none\" stroke=\"#000000\" cx=\"199.7445\" cy=\"-90\" rx=\"58.4896\" ry=\"18\"/>\n<text text-anchor=\"middle\" x=\"199.7445\" y=\"-86.3\" font-family=\"Times,serif\" font-size=\"14.00\" fill=\"#000000\">radius_worst</text>\n</g>\n<!-- radius_worst&#45;&gt;diagnosis -->\n<g id=\"edge17\" class=\"edge\">\n<title>radius_worst&#45;&gt;diagnosis</title>\n<path fill=\"none\" stroke=\"#000000\" d=\"M242.8716,-77.7523C252.3164,-75.4824 262.3119,-73.3914 271.7445,-72 481.5725,-41.0492 1143.2596,-23.7988 1341.2428,-19.2364\"/>\n<polygon fill=\"#000000\" stroke=\"#000000\" points=\"1341.5022,-22.7315 1351.4196,-19.0037 1341.3421,-15.7333 1341.5022,-22.7315\"/>\n</g>\n<!-- concavity_worst -->\n<g id=\"node3\" class=\"node\">\n<title>concavity_worst</title>\n<ellipse fill=\"none\" stroke=\"#000000\" cx=\"385.7445\" cy=\"-90\" rx=\"72.2875\" ry=\"18\"/>\n<text text-anchor=\"middle\" x=\"385.7445\" y=\"-86.3\" font-family=\"Times,serif\" font-size=\"14.00\" fill=\"#000000\">concavity_worst</text>\n</g>\n<!-- concavity_worst&#45;&gt;diagnosis -->\n<g id=\"edge22\" class=\"edge\">\n<title>concavity_worst&#45;&gt;diagnosis</title>\n<path fill=\"none\" stroke=\"#000000\" d=\"M437.3724,-77.2292C447.081,-75.1977 457.185,-73.3306 466.7445,-72 637.2494,-48.2671 1166.9095,-26.7012 1341.3787,-20.0788\"/>\n<polygon fill=\"#000000\" stroke=\"#000000\" points=\"1341.7597,-23.567 1351.6204,-19.6918 1341.4953,-16.572 1341.7597,-23.567\"/>\n</g>\n<!-- texture_se -->\n<g id=\"node4\" class=\"node\">\n<title>texture_se</title>\n<ellipse fill=\"none\" stroke=\"#000000\" cx=\"523.7445\" cy=\"-90\" rx=\"48.1917\" ry=\"18\"/>\n<text text-anchor=\"middle\" x=\"523.7445\" y=\"-86.3\" font-family=\"Times,serif\" font-size=\"14.00\" fill=\"#000000\">texture_se</text>\n</g>\n<!-- texture_se&#45;&gt;diagnosis -->\n<g id=\"edge10\" class=\"edge\">\n<title>texture_se&#45;&gt;diagnosis</title>\n<path fill=\"none\" stroke=\"#000000\" d=\"M558.6787,-77.5197C565.8945,-75.3533 573.5035,-73.3621 580.7445,-72 727.1824,-44.4533 1181.6973,-25.8092 1341.4911,-19.9607\"/>\n<polygon fill=\"#000000\" stroke=\"#000000\" points=\"1341.7175,-23.4549 1351.5838,-19.594 1341.4633,-16.4595 1341.7175,-23.4549\"/>\n</g>\n<!-- compactness_se -->\n<g id=\"node5\" class=\"node\">\n<title>compactness_se</title>\n<ellipse fill=\"none\" stroke=\"#000000\" cx=\"659.7445\" cy=\"-90\" rx=\"69.5877\" ry=\"18\"/>\n<text text-anchor=\"middle\" x=\"659.7445\" y=\"-86.3\" font-family=\"Times,serif\" font-size=\"14.00\" fill=\"#000000\">compactness_se</text>\n</g>\n<!-- compactness_se&#45;&gt;diagnosis -->\n<g id=\"edge13\" class=\"edge\">\n<title>compactness_se&#45;&gt;diagnosis</title>\n<path fill=\"none\" stroke=\"#000000\" d=\"M710.1119,-77.4005C719.5794,-75.3523 729.4297,-73.4354 738.7445,-72 960.1587,-37.8814 1226.9696,-24.4 1341.2868,-19.9191\"/>\n<polygon fill=\"#000000\" stroke=\"#000000\" points=\"1341.683,-23.4066 1351.5414,-19.5254 1341.4144,-16.4118 1341.683,-23.4066\"/>\n</g>\n<!-- smoothness_worst -->\n<g id=\"node6\" class=\"node\">\n<title>smoothness_worst</title>\n<ellipse fill=\"none\" stroke=\"#000000\" cx=\"242.7445\" cy=\"-162\" rx=\"79.0865\" ry=\"18\"/>\n<text text-anchor=\"middle\" x=\"242.7445\" y=\"-158.3\" font-family=\"Times,serif\" font-size=\"14.00\" fill=\"#000000\">smoothness_worst</text>\n</g>\n<!-- smoothness_worst&#45;&gt;radius_worst -->\n<g id=\"edge20\" class=\"edge\">\n<title>smoothness_worst&#45;&gt;radius_worst</title>\n<path fill=\"none\" stroke=\"#000000\" d=\"M231.8938,-143.8314C226.9676,-135.5829 221.0436,-125.6635 215.6301,-116.5992\"/>\n<polygon fill=\"#000000\" stroke=\"#000000\" points=\"218.5752,-114.7042 210.4428,-107.9134 212.5654,-118.2935 218.5752,-114.7042\"/>\n</g>\n<!-- smoothness_worst&#45;&gt;diagnosis -->\n<g id=\"edge19\" class=\"edge\">\n<title>smoothness_worst&#45;&gt;diagnosis</title>\n<path fill=\"none\" stroke=\"#000000\" d=\"M249.3379,-144.0469C258.2614,-122.6456 276.404,-87.7955 304.7445,-72 350.3607,-46.576 1124.0751,-24.9857 1341.3875,-19.402\"/>\n<polygon fill=\"#000000\" stroke=\"#000000\" points=\"1341.7039,-22.8951 1351.6111,-19.1406 1341.5249,-15.8974 1341.7039,-22.8951\"/>\n</g>\n<!-- concavity_se -->\n<g id=\"node7\" class=\"node\">\n<title>concavity_se</title>\n<ellipse fill=\"none\" stroke=\"#000000\" cx=\"806.7445\" cy=\"-90\" rx=\"59.2899\" ry=\"18\"/>\n<text text-anchor=\"middle\" x=\"806.7445\" y=\"-86.3\" font-family=\"Times,serif\" font-size=\"14.00\" fill=\"#000000\">concavity_se</text>\n</g>\n<!-- concavity_se&#45;&gt;diagnosis -->\n<g id=\"edge14\" class=\"edge\">\n<title>concavity_se&#45;&gt;diagnosis</title>\n<path fill=\"none\" stroke=\"#000000\" d=\"M849.9535,-77.6544C858.4519,-75.5312 867.339,-73.522 875.7445,-72 1043.7688,-41.5754 1245.554,-26.7558 1341.6073,-20.9993\"/>\n<polygon fill=\"#000000\" stroke=\"#000000\" points=\"1341.9024,-24.4881 1351.6792,-20.4058 1341.4906,-17.5002 1341.9024,-24.4881\"/>\n</g>\n<!-- symmetry_worst -->\n<g id=\"node8\" class=\"node\">\n<title>symmetry_worst</title>\n<ellipse fill=\"none\" stroke=\"#000000\" cx=\"957.7445\" cy=\"-90\" rx=\"73.387\" ry=\"18\"/>\n<text text-anchor=\"middle\" x=\"957.7445\" y=\"-86.3\" font-family=\"Times,serif\" font-size=\"14.00\" fill=\"#000000\">symmetry_worst</text>\n</g>\n<!-- symmetry_worst&#45;&gt;diagnosis -->\n<g id=\"edge24\" class=\"edge\">\n<title>symmetry_worst&#45;&gt;diagnosis</title>\n<path fill=\"none\" stroke=\"#000000\" d=\"M1011.4535,-77.6755C1020.8608,-75.6699 1030.5721,-73.6966 1039.7445,-72 1147.1084,-52.1415 1273.6009,-34.37 1343.8302,-24.9965\"/>\n<polygon fill=\"#000000\" stroke=\"#000000\" points=\"1344.3228,-28.4619 1353.7747,-23.6752 1343.4008,-21.5229 1344.3228,-28.4619\"/>\n</g>\n<!-- symmetry_mean -->\n<g id=\"node9\" class=\"node\">\n<title>symmetry_mean</title>\n<ellipse fill=\"none\" stroke=\"#000000\" cx=\"1121.7445\" cy=\"-90\" rx=\"72.5877\" ry=\"18\"/>\n<text text-anchor=\"middle\" x=\"1121.7445\" y=\"-86.3\" font-family=\"Times,serif\" font-size=\"14.00\" fill=\"#000000\">symmetry_mean</text>\n</g>\n<!-- symmetry_mean&#45;&gt;diagnosis -->\n<g id=\"edge8\" class=\"edge\">\n<title>symmetry_mean&#45;&gt;diagnosis</title>\n<path fill=\"none\" stroke=\"#000000\" d=\"M1172.0462,-76.8778C1222.5218,-63.7103 1299.7248,-43.5704 1349.4698,-30.5934\"/>\n<polygon fill=\"#000000\" stroke=\"#000000\" points=\"1350.5497,-33.9289 1359.3424,-28.0179 1348.7827,-27.1556 1350.5497,-33.9289\"/>\n</g>\n<!-- fractal_dimension_worst -->\n<g id=\"node10\" class=\"node\">\n<title>fractal_dimension_worst</title>\n<ellipse fill=\"none\" stroke=\"#000000\" cx=\"1992.7445\" cy=\"-162\" rx=\"102.8821\" ry=\"18\"/>\n<text text-anchor=\"middle\" x=\"1992.7445\" y=\"-158.3\" font-family=\"Times,serif\" font-size=\"14.00\" fill=\"#000000\">fractal_dimension_worst</text>\n</g>\n<!-- concave points_se -->\n<g id=\"node11\" class=\"node\">\n<title>concave points_se</title>\n<ellipse fill=\"none\" stroke=\"#000000\" cx=\"1290.7445\" cy=\"-90\" rx=\"78.7863\" ry=\"18\"/>\n<text text-anchor=\"middle\" x=\"1290.7445\" y=\"-86.3\" font-family=\"Times,serif\" font-size=\"14.00\" fill=\"#000000\">concave points_se</text>\n</g>\n<!-- concave points_se&#45;&gt;diagnosis -->\n<g id=\"edge15\" class=\"edge\">\n<title>concave points_se&#45;&gt;diagnosis</title>\n<path fill=\"none\" stroke=\"#000000\" d=\"M1316.102,-72.937C1331.015,-62.9021 1350.0064,-50.1229 1365.919,-39.4153\"/>\n<polygon fill=\"#000000\" stroke=\"#000000\" points=\"1368.0546,-42.1969 1374.3972,-33.7103 1364.1466,-36.3893 1368.0546,-42.1969\"/>\n</g>\n<!-- smoothness_mean -->\n<g id=\"node12\" class=\"node\">\n<title>smoothness_mean</title>\n<ellipse fill=\"none\" stroke=\"#000000\" cx=\"1440.7445\" cy=\"-162\" rx=\"79.0865\" ry=\"18\"/>\n<text text-anchor=\"middle\" x=\"1440.7445\" y=\"-158.3\" font-family=\"Times,serif\" font-size=\"14.00\" fill=\"#000000\">smoothness_mean</text>\n</g>\n<!-- smoothness_mean&#45;&gt;diagnosis -->\n<g id=\"edge3\" class=\"edge\">\n<title>smoothness_mean&#45;&gt;diagnosis</title>\n<path fill=\"none\" stroke=\"#000000\" d=\"M1431.5439,-143.8812C1426.6027,-133.5716 1420.7265,-120.298 1416.7445,-108 1410.1957,-87.7746 1405.3199,-64.2465 1402.1481,-46.3201\"/>\n<polygon fill=\"#000000\" stroke=\"#000000\" points=\"1405.5583,-45.4955 1400.4357,-36.2214 1398.6568,-46.6658 1405.5583,-45.4955\"/>\n</g>\n<!-- radius_mean -->\n<g id=\"node21\" class=\"node\">\n<title>radius_mean</title>\n<ellipse fill=\"none\" stroke=\"#000000\" cx=\"1483.7445\" cy=\"-90\" rx=\"57.6901\" ry=\"18\"/>\n<text text-anchor=\"middle\" x=\"1483.7445\" y=\"-86.3\" font-family=\"Times,serif\" font-size=\"14.00\" fill=\"#000000\">radius_mean</text>\n</g>\n<!-- smoothness_mean&#45;&gt;radius_mean -->\n<g id=\"edge4\" class=\"edge\">\n<title>smoothness_mean&#45;&gt;radius_mean</title>\n<path fill=\"none\" stroke=\"#000000\" d=\"M1451.5952,-143.8314C1456.5214,-135.5829 1462.4455,-125.6635 1467.8589,-116.5992\"/>\n<polygon fill=\"#000000\" stroke=\"#000000\" points=\"1470.9237,-118.2935 1473.0462,-107.9134 1464.9139,-114.7042 1470.9237,-118.2935\"/>\n</g>\n<!-- concave points_mean -->\n<g id=\"node13\" class=\"node\">\n<title>concave points_mean</title>\n<ellipse fill=\"none\" stroke=\"#000000\" cx=\"1650.7445\" cy=\"-90\" rx=\"90.9839\" ry=\"18\"/>\n<text text-anchor=\"middle\" x=\"1650.7445\" y=\"-86.3\" font-family=\"Times,serif\" font-size=\"14.00\" fill=\"#000000\">concave points_mean</text>\n</g>\n<!-- concave points_mean&#45;&gt;diagnosis -->\n<g id=\"edge7\" class=\"edge\">\n<title>concave points_mean&#45;&gt;diagnosis</title>\n<path fill=\"none\" stroke=\"#000000\" d=\"M1598.6295,-75.1689C1553.5384,-62.3366 1488.8908,-43.9389 1445.2135,-31.509\"/>\n<polygon fill=\"#000000\" stroke=\"#000000\" points=\"1445.9838,-28.0893 1435.4077,-28.7184 1444.0678,-34.8219 1445.9838,-28.0893\"/>\n</g>\n<!-- fractal_dimension_mean -->\n<g id=\"node14\" class=\"node\">\n<title>fractal_dimension_mean</title>\n<ellipse fill=\"none\" stroke=\"#000000\" cx=\"2215.7445\" cy=\"-162\" rx=\"102.0819\" ry=\"18\"/>\n<text text-anchor=\"middle\" x=\"2215.7445\" y=\"-158.3\" font-family=\"Times,serif\" font-size=\"14.00\" fill=\"#000000\">fractal_dimension_mean</text>\n</g>\n<!-- smoothness_se -->\n<g id=\"node16\" class=\"node\">\n<title>smoothness_se</title>\n<ellipse fill=\"none\" stroke=\"#000000\" cx=\"1805.7445\" cy=\"-162\" rx=\"66.0889\" ry=\"18\"/>\n<text text-anchor=\"middle\" x=\"1805.7445\" y=\"-158.3\" font-family=\"Times,serif\" font-size=\"14.00\" fill=\"#000000\">smoothness_se</text>\n</g>\n<!-- smoothness_se&#45;&gt;diagnosis -->\n<g id=\"edge11\" class=\"edge\">\n<title>smoothness_se&#45;&gt;diagnosis</title>\n<path fill=\"none\" stroke=\"#000000\" d=\"M1799.933,-143.8206C1792.2267,-122.873 1776.5105,-89.1409 1750.7445,-72 1703.1261,-40.3218 1540.7924,-26.2564 1453.8283,-20.8708\"/>\n<polygon fill=\"#000000\" stroke=\"#000000\" points=\"1453.8014,-17.3629 1443.6094,-20.2564 1453.3813,-24.3503 1453.8014,-17.3629\"/>\n</g>\n<!-- radius_se -->\n<g id=\"node19\" class=\"node\">\n<title>radius_se</title>\n<ellipse fill=\"none\" stroke=\"#000000\" cx=\"1842.7445\" cy=\"-90\" rx=\"45.4919\" ry=\"18\"/>\n<text text-anchor=\"middle\" x=\"1842.7445\" y=\"-86.3\" font-family=\"Times,serif\" font-size=\"14.00\" fill=\"#000000\">radius_se</text>\n</g>\n<!-- smoothness_se&#45;&gt;radius_se -->\n<g id=\"edge12\" class=\"edge\">\n<title>smoothness_se&#45;&gt;radius_se</title>\n<path fill=\"none\" stroke=\"#000000\" d=\"M1815.0812,-143.8314C1819.2758,-135.6688 1824.3113,-125.87 1828.9298,-116.8827\"/>\n<polygon fill=\"#000000\" stroke=\"#000000\" points=\"1832.0813,-118.4075 1833.539,-107.9134 1825.8553,-115.208 1832.0813,-118.4075\"/>\n</g>\n<!-- concavity_mean -->\n<g id=\"node17\" class=\"node\">\n<title>concavity_mean</title>\n<ellipse fill=\"none\" stroke=\"#000000\" cx=\"1977.7445\" cy=\"-90\" rx=\"71.4873\" ry=\"18\"/>\n<text text-anchor=\"middle\" x=\"1977.7445\" y=\"-86.3\" font-family=\"Times,serif\" font-size=\"14.00\" fill=\"#000000\">concavity_mean</text>\n</g>\n<!-- concavity_mean&#45;&gt;diagnosis -->\n<g id=\"edge6\" class=\"edge\">\n<title>concavity_mean&#45;&gt;diagnosis</title>\n<path fill=\"none\" stroke=\"#000000\" d=\"M1925.6228,-77.5256C1916.0537,-75.4899 1906.1258,-73.5451 1896.7445,-72 1736.8001,-45.6574 1545.8146,-29.085 1453.3584,-21.9935\"/>\n<polygon fill=\"#000000\" stroke=\"#000000\" points=\"1453.6191,-18.5033 1443.3828,-21.2359 1453.089,-25.4832 1453.6191,-18.5033\"/>\n</g>\n<!-- symmetry_se -->\n<g id=\"node18\" class=\"node\">\n<title>symmetry_se</title>\n<ellipse fill=\"none\" stroke=\"#000000\" cx=\"2126.7445\" cy=\"-90\" rx=\"59.5901\" ry=\"18\"/>\n<text text-anchor=\"middle\" x=\"2126.7445\" y=\"-86.3\" font-family=\"Times,serif\" font-size=\"14.00\" fill=\"#000000\">symmetry_se</text>\n</g>\n<!-- symmetry_se&#45;&gt;diagnosis -->\n<g id=\"edge16\" class=\"edge\">\n<title>symmetry_se&#45;&gt;diagnosis</title>\n<path fill=\"none\" stroke=\"#000000\" d=\"M2083.5609,-77.51C2075.0603,-75.3994 2066.1659,-73.4318 2057.7445,-72 1836.5535,-34.3932 1569.0444,-22.742 1454.3827,-19.3281\"/>\n<polygon fill=\"#000000\" stroke=\"#000000\" points=\"1454.1935,-15.8213 1444.0969,-19.0319 1453.992,-22.8184 1454.1935,-15.8213\"/>\n</g>\n<!-- radius_se&#45;&gt;diagnosis -->\n<g id=\"edge9\" class=\"edge\">\n<title>radius_se&#45;&gt;diagnosis</title>\n<path fill=\"none\" stroke=\"#000000\" d=\"M1807.7306,-78.3295C1799.8984,-75.9964 1791.5871,-73.7336 1783.7445,-72 1667.4765,-46.2986 1528.663,-30.4156 1453.2373,-22.9969\"/>\n<polygon fill=\"#000000\" stroke=\"#000000\" points=\"1453.3153,-19.4882 1443.0241,-22.0062 1452.6394,-26.4555 1453.3153,-19.4882\"/>\n</g>\n<!-- texture_mean -->\n<g id=\"node20\" class=\"node\">\n<title>texture_mean</title>\n<ellipse fill=\"none\" stroke=\"#000000\" cx=\"2265.7445\" cy=\"-90\" rx=\"61.1893\" ry=\"18\"/>\n<text text-anchor=\"middle\" x=\"2265.7445\" y=\"-86.3\" font-family=\"Times,serif\" font-size=\"14.00\" fill=\"#000000\">texture_mean</text>\n</g>\n<!-- texture_mean&#45;&gt;diagnosis -->\n<g id=\"edge2\" class=\"edge\">\n<title>texture_mean&#45;&gt;diagnosis</title>\n<path fill=\"none\" stroke=\"#000000\" d=\"M2221.9426,-77.421C2213.3181,-75.3182 2204.2927,-73.3762 2195.7445,-72 2052.5172,-48.9407 1611.4735,-27.5493 1454.1902,-20.465\"/>\n<polygon fill=\"#000000\" stroke=\"#000000\" points=\"1453.9517,-16.9509 1443.805,-19.9995 1453.6382,-23.9439 1453.9517,-16.9509\"/>\n</g>\n<!-- radius_mean&#45;&gt;diagnosis -->\n<g id=\"edge1\" class=\"edge\">\n<title>radius_mean&#45;&gt;diagnosis</title>\n<path fill=\"none\" stroke=\"#000000\" d=\"M1463.3637,-72.937C1451.955,-63.3855 1437.5765,-51.3477 1425.1888,-40.9766\"/>\n<polygon fill=\"#000000\" stroke=\"#000000\" points=\"1427.3014,-38.1807 1417.3871,-34.4449 1422.8079,-43.548 1427.3014,-38.1807\"/>\n</g>\n<!-- concave points_worst -->\n<g id=\"node22\" class=\"node\">\n<title>concave points_worst</title>\n<ellipse fill=\"none\" stroke=\"#000000\" cx=\"2436.7445\" cy=\"-90\" rx=\"91.784\" ry=\"18\"/>\n<text text-anchor=\"middle\" x=\"2436.7445\" y=\"-86.3\" font-family=\"Times,serif\" font-size=\"14.00\" fill=\"#000000\">concave points_worst</text>\n</g>\n<!-- concave points_worst&#45;&gt;diagnosis -->\n<g id=\"edge23\" class=\"edge\">\n<title>concave points_worst&#45;&gt;diagnosis</title>\n<path fill=\"none\" stroke=\"#000000\" d=\"M2371.7158,-77.2387C2359.7878,-75.2322 2347.4195,-73.3715 2335.7445,-72 2003.1165,-32.9256 1600.6648,-21.7932 1454.3613,-18.9169\"/>\n<polygon fill=\"#000000\" stroke=\"#000000\" points=\"1454.3398,-15.4159 1444.2746,-18.7238 1454.2057,-22.4146 1454.3398,-15.4159\"/>\n</g>\n<!-- fractal_dimension_se -->\n<g id=\"node23\" class=\"node\">\n<title>fractal_dimension_se</title>\n<ellipse fill=\"none\" stroke=\"#000000\" cx=\"2424.7445\" cy=\"-162\" rx=\"89.0842\" ry=\"18\"/>\n<text text-anchor=\"middle\" x=\"2424.7445\" y=\"-158.3\" font-family=\"Times,serif\" font-size=\"14.00\" fill=\"#000000\">fractal_dimension_se</text>\n</g>\n<!-- compactness_worst -->\n<g id=\"node24\" class=\"node\">\n<title>compactness_worst</title>\n<ellipse fill=\"none\" stroke=\"#000000\" cx=\"2629.7445\" cy=\"-90\" rx=\"83.3857\" ry=\"18\"/>\n<text text-anchor=\"middle\" x=\"2629.7445\" y=\"-86.3\" font-family=\"Times,serif\" font-size=\"14.00\" fill=\"#000000\">compactness_worst</text>\n</g>\n<!-- compactness_worst&#45;&gt;diagnosis -->\n<g id=\"edge21\" class=\"edge\">\n<title>compactness_worst&#45;&gt;diagnosis</title>\n<path fill=\"none\" stroke=\"#000000\" d=\"M2571.0527,-77.1928C2560.0308,-75.1648 2548.57,-73.3083 2537.7445,-72 2324.3246,-46.207 1653.6486,-25.3422 1454.2174,-19.5826\"/>\n<polygon fill=\"#000000\" stroke=\"#000000\" points=\"1454.0668,-16.0769 1443.9703,-19.288 1453.8656,-23.074 1454.0668,-16.0769\"/>\n</g>\n<!-- compactness_mean -->\n<g id=\"node25\" class=\"node\">\n<title>compactness_mean</title>\n<ellipse fill=\"none\" stroke=\"#000000\" cx=\"2813.7445\" cy=\"-90\" rx=\"82.5854\" ry=\"18\"/>\n<text text-anchor=\"middle\" x=\"2813.7445\" y=\"-86.3\" font-family=\"Times,serif\" font-size=\"14.00\" fill=\"#000000\">compactness_mean</text>\n</g>\n<!-- compactness_mean&#45;&gt;diagnosis -->\n<g id=\"edge5\" class=\"edge\">\n<title>compactness_mean&#45;&gt;diagnosis</title>\n<path fill=\"none\" stroke=\"#000000\" d=\"M2755.5529,-77.2253C2744.3793,-75.1673 2732.7359,-73.2918 2721.7445,-72 2470.5325,-42.4766 1673.9851,-23.8295 1454.3215,-19.1574\"/>\n<polygon fill=\"#000000\" stroke=\"#000000\" points=\"1454.07,-15.6514 1443.9982,-18.9391 1453.9219,-22.6498 1454.07,-15.6514\"/>\n</g>\n</g>\n</svg>\n"
          },
          "metadata": {},
          "execution_count": 13
        }
      ]
    },
    {
      "cell_type": "code",
      "metadata": {
        "colab": {
          "base_uri": "https://localhost:8080/"
        },
        "id": "esdMLaeH9wAj",
        "outputId": "619951bd-964c-4ebd-bb0f-53e5f2f7322a"
      },
      "source": [
        "print(effect.get_distribution())"
      ],
      "execution_count": null,
      "outputs": [
        {
          "output_type": "stream",
          "text": [
            "P(texture_mean)P(smoothness_mean)P(compactness_mean)P(concavity_mean)P(concave points_mean)P(symmetry_mean)P(fractal_dimension_mean)P(texture_se)P(smoothness_se)P(compactness_se)P(concavity_se)P(concave points_se)P(symmetry_se)P(fractal_dimension_se)P(texture_worst)P(smoothness_worst)P(compactness_worst)P(concavity_worst)P(concave points_worst)P(symmetry_worst)P(fractal_dimension_worst)P(fractal_dimesnion_mean)P(fractal_dimesnion_worst)P(fractal_dimesnion_se)P(perimeter_se)P(radius_mean|smoothness_mean)P(radius_se|smoothness_se)P(radius_worst|smoothness_worst)P(diagnosis|radius_mean,texture_mean,smoothness_mean,compactness_mean,concavity_mean,concave points_mean,symmetry_mean,fractal_dimesnion_mean,radius_worst,texture_worst,smoothness_worst,compactness_worst,concavity_worst,concave points_worst,symmetry_worst,fractal_dimesnion_worst,radius_se,texture_se,smoothness_se,compactness_se,concavity_se,concave points_se,symmetry_se,fractal_dimesnion_se,perimeter_se)\n"
          ],
          "name": "stdout"
        }
      ]
    },
    {
      "cell_type": "code",
      "metadata": {
        "id": "ckBb40Sh-bsM"
      },
      "source": [
        "effect.get_all_independence_relationships()"
      ],
      "execution_count": null,
      "outputs": []
    },
    {
      "cell_type": "code",
      "metadata": {
        "id": "U0A7xcKq_gFf",
        "colab": {
          "base_uri": "https://localhost:8080/"
        },
        "outputId": "d4e99cb4-6e92-4fdc-b44f-8e24a1c7273f"
      },
      "source": [
        "model=CausalModel(\n",
        "        data = data,\n",
        "        treatment='radius_worst',\n",
        "        outcome='diagnosis',\n",
        "        \n",
        "        )"
      ],
      "execution_count": null,
      "outputs": [
        {
          "output_type": "stream",
          "text": [
            "WARN: Are you sure that there are no common causes of treatment and outcome? [y/n] y\n"
          ],
          "name": "stdout"
        }
      ]
    },
    {
      "cell_type": "code",
      "metadata": {
        "colab": {
          "base_uri": "https://localhost:8080/",
          "height": 308
        },
        "id": "Boo9lfdoXADk",
        "outputId": "598ad1b4-72d1-4e20-d2f3-7d7b9699bec3"
      },
      "source": [
        "identified_estimand = model.identify_effect()"
      ],
      "execution_count": null,
      "outputs": [
        {
          "output_type": "error",
          "ename": "AttributeError",
          "evalue": "ignored",
          "traceback": [
            "\u001b[0;31m---------------------------------------------------------------------------\u001b[0m",
            "\u001b[0;31mAttributeError\u001b[0m                            Traceback (most recent call last)",
            "\u001b[0;32m<ipython-input-16-f74098535dfd>\u001b[0m in \u001b[0;36m<module>\u001b[0;34m()\u001b[0m\n\u001b[0;32m----> 1\u001b[0;31m \u001b[0midentified_estimand\u001b[0m \u001b[0;34m=\u001b[0m \u001b[0mmodel\u001b[0m\u001b[0;34m.\u001b[0m\u001b[0midentify_effect\u001b[0m\u001b[0;34m(\u001b[0m\u001b[0;34m)\u001b[0m\u001b[0;34m\u001b[0m\u001b[0;34m\u001b[0m\u001b[0m\n\u001b[0m",
            "\u001b[0;32m/usr/local/lib/python3.7/dist-packages/dowhy/causal_model.py\u001b[0m in \u001b[0;36midentify_effect\u001b[0;34m(self, estimand_type, method_name, proceed_when_unidentifiable)\u001b[0m\n\u001b[1;32m    133\u001b[0m             \u001b[0mestimand_type\u001b[0m \u001b[0;34m=\u001b[0m \u001b[0mself\u001b[0m\u001b[0;34m.\u001b[0m\u001b[0m_estimand_type\u001b[0m\u001b[0;34m\u001b[0m\u001b[0;34m\u001b[0m\u001b[0m\n\u001b[1;32m    134\u001b[0m \u001b[0;34m\u001b[0m\u001b[0m\n\u001b[0;32m--> 135\u001b[0;31m         self.identifier = CausalIdentifier(self._graph,\n\u001b[0m\u001b[1;32m    136\u001b[0m                                            \u001b[0mestimand_type\u001b[0m\u001b[0;34m,\u001b[0m\u001b[0;34m\u001b[0m\u001b[0;34m\u001b[0m\u001b[0m\n\u001b[1;32m    137\u001b[0m                                            \u001b[0mmethod_name\u001b[0m\u001b[0;34m,\u001b[0m\u001b[0;34m\u001b[0m\u001b[0;34m\u001b[0m\u001b[0m\n",
            "\u001b[0;31mAttributeError\u001b[0m: 'CausalModel' object has no attribute '_graph'"
          ]
        }
      ]
    },
    {
      "cell_type": "code",
      "metadata": {
        "id": "YXCC-BowXHIQ"
      },
      "source": [
        ""
      ],
      "execution_count": null,
      "outputs": []
    }
  ]
}